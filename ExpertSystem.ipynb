{
  "nbformat": 4,
  "nbformat_minor": 0,
  "metadata": {
    "colab": {
      "provenance": [],
      "authorship_tag": "ABX9TyNap5WBJxSsPaJngAYU1tK0",
      "include_colab_link": true
    },
    "kernelspec": {
      "name": "python3",
      "display_name": "Python 3"
    },
    "language_info": {
      "name": "python"
    }
  },
  "cells": [
    {
      "cell_type": "markdown",
      "metadata": {
        "id": "view-in-github",
        "colab_type": "text"
      },
      "source": [
        "<a href=\"https://colab.research.google.com/github/SaraAlturk/ExpertSystems/blob/main/ExpertSystem.ipynb\" target=\"_parent\"><img src=\"https://colab.research.google.com/assets/colab-badge.svg\" alt=\"Open In Colab\"/></a>"
      ]
    },
    {
      "cell_type": "markdown",
      "source": [
        "\n",
        "**This expert system is built to generate activity recommendations for tourists in AlUla,KSA**\n",
        "\n",
        "it includes 12 rules/recommendations\n"
      ],
      "metadata": {
        "id": "R10HSQWlOk20"
      }
    },
    {
      "cell_type": "markdown",
      "source": [
        "facts and rules are fundamental components used to represent knowledge and make decisions within an expert system.\n",
        "\n",
        "**Facts**\n",
        "\n",
        "the basic unit of information of Experta.\n",
        "They are used by the system to reason about the problem.\n",
        "current state or knowledge about a specific problem or domain\n",
        "\n",
        "Fact classes are used to define the structure of facts, which represent information or knowledge in the expert system\n",
        "\n",
        "This system defines two fact classes: 'TouristInterests' and 'AlUlaActivities'.\n",
        "```\n",
        "class TouristInterests(Fact):\n",
        "    pass\n",
        "class AlUlaActivities(KnowledgeEngine):\n",
        "```\n",
        "---\n",
        "**Rules**\n",
        "\n",
        "The @Rule decorator is used to define rules in your expert system. Each rule consists of conditions and actions.\n",
        "\n",
        "Conditions are defined using facts and their slots to specify when the rule should be triggered.\n",
        "```\n",
        "@Rule(AND(TouristInterests(history='y'), TouristInterests(observation='y')))\n",
        "def visit_elephant_rock(self):\n",
        "    print(\"visit Elephant Rock\")\n",
        "```\n",
        "The actions associated with each rule are to print recommendations.\n",
        "\n",
        "> *Rule conditions* specify when a rule should be triggered.they're created using logical operators like AND, OR, NOT, and fact instances with their slots.\n",
        "\n",
        "> *Rule actions* specify what should happen when a rule is triggered.\n",
        "The actions associated with each rule are to print recommendations.\n"
      ],
      "metadata": {
        "id": "dtcc53fmzsR4"
      }
    },
    {
      "cell_type": "markdown",
      "source": [
        "**1)**Installing the Packages in the same cell"
      ],
      "metadata": {
        "id": "dJlR25ZfaMZj"
      }
    },
    {
      "cell_type": "code",
      "execution_count": null,
      "metadata": {
        "id": "ih3AOl7PPIAo"
      },
      "outputs": [],
      "source": [
        "! pip install experta # can't run with this package alone, compatibility issues experta 1.9.4 requires frozendict==1.2\n",
        "! pip install --upgrade frozendict #yfinance 0.2.31 requires frozendict>=2.3.4\n",
        "! pip uninstall frozendict\n",
        "! pip uninstall yfinance\n",
        "! pip install yfinance"
      ]
    },
    {
      "cell_type": "markdown",
      "source": [
        "**2)** import experta (package used for Expert System)\n",
        "```\n",
        "# from experta import *\n",
        "```\n",
        "\n",
        "**3)** The code for expert system\n",
        "\n",
        "\n"
      ],
      "metadata": {
        "id": "9fixtSTDdVac"
      }
    },
    {
      "cell_type": "code",
      "source": [
        "from experta import *\n",
        "# Define a fact to represent user preferences\n",
        "class TouristInterests(Fact):\n",
        "    pass\n",
        "# Define the expert system\n",
        "class AlUlaActivities(KnowledgeEngine):\n",
        "\n",
        "    @Rule(OR(TouristInterests(history='y'), TouristInterests(observation='y')))\n",
        "    #\"Tourists must visit Elephant Rock\" if the tourist is interested in either History or Observation or both.\n",
        "    def visit_elephant_rock(self):\n",
        "        print(\"Visit Elephant Rock\")\n",
        "\n",
        "    @Rule(AND(TouristInterests(physical_activity='y'), TouristInterests(outdoor='y'), TouristInterests(race='y')))\n",
        "    def join_alula_trail_race(self):\n",
        "        print(\"Join AlUla Trail Race\")\n",
        "\n",
        "    @Rule(AND(TouristInterests(observation='y'), TouristInterests(outdoor='y'), TouristInterests(race='y')))\n",
        "    def join_camel_and_horse_cup(self):\n",
        "        print(\"Join Camel and Horse Cup\")\n",
        "\n",
        "    @Rule(OR(TouristInterests(contemporary_art='y'), TouristInterests(observation='y')))\n",
        "    #\"visit AlUla Museum\" if the tourist is interested in either Art or Observation or both.\n",
        "    def visit_alula_museum(self):\n",
        "        print(\"Visit AlUla Museum\")\n",
        "\n",
        "    @Rule(AND(TouristInterests(outdoor='y'), TouristInterests(adventurous='y')))\n",
        "    def visit_alula_sky_festival(self):\n",
        "        print(\"Visit AlUla Sky Festival\")\n",
        "\n",
        "    @Rule(AND(TouristInterests(relaxation='y')))\n",
        "    def visit_stargazing(self):\n",
        "        print(\"Try Stargazing at Gharameel\")\n",
        "\n",
        "    @Rule(AND(TouristInterests(relaxation='y'), TouristInterests(observation='y')))\n",
        "    def visit_stargazing(self):\n",
        "        print(\"Try Stargazing at Gharameel\")\n",
        "\n",
        "    @Rule(AND(TouristInterests(relaxation='y'), TouristInterests(physical='y'),TouristInterests(outdoor='y')))\n",
        "    def visit_full_moon_sound_bath(self):\n",
        "        print(\"Try Full Moon Sound Bath at AlHegra\")\n",
        "\n",
        "    @Rule(AND(TouristInterests(contemporary_art='y'), TouristInterests(musical_performance='y')))\n",
        "    def visit_almaraya_concert_hall(self):\n",
        "        print(\"Visit AlMaraya Concert Hall\")\n",
        "\n",
        "    @Rule(AND(TouristInterests(contemporary_art='y'), TouristInterests(filmmaking='y')))\n",
        "    def visit_alula_international_film_festival(self):\n",
        "        print(\"Visit AlUla International Film Festival\")\n",
        "\n",
        "    @Rule(AND(TouristInterests(shopping='y'), TouristInterests(history='y')))\n",
        "    def visit_old_town_market_street(self):\n",
        "        print(\"Visit Old Town Market Street.\")\n",
        "\n",
        "    @Rule(TouristInterests(traditional_cuisine='y'))\n",
        "    def visit_tomoor_alula_cafe(self):\n",
        "        print(\"Eat in Tomoor AlUla Cafe.\")\n",
        "\n",
        "    @Rule(AND(TouristInterests(international_cuisine='y'), TouristInterests(high_budget='y')))\n",
        "    def visit_somewhere_restaurants(self):\n",
        "        print(\"Eat in (Somewhere) Restaurants\")\n",
        "\n",
        "#If the user's responses do not match any of the defined rules, the system prints a message indicating that it couldn't find a suitable activity.\n",
        "    @Rule(AND(TouristInterests(history='n'), TouristInterests(observation='n'),\n",
        "      TouristInterests(physical_activity='n'), TouristInterests(outdoor='n'),\n",
        "      TouristInterests(race='n'), TouristInterests(contemporary_art='n'),\n",
        "      TouristInterests(adventurous='n'), TouristInterests(relaxation='n'),\n",
        "      TouristInterests(physical='n'), TouristInterests(musical_performance='n'),\n",
        "      TouristInterests(filmmaking='n'), TouristInterests(shopping='n'),\n",
        "      TouristInterests(traditional_cuisine='n'), TouristInterests(international_cuisine='n'),\n",
        "      TouristInterests(high_budget='n')))\n",
        "    def no_suitable_activity(self):\n",
        "      print(\"Sorry, we couldn't find a suitable activity based on your interests in AlUla. Please explore the destination for other attractions and experiences.\")\n",
        "\n",
        "\n",
        "# Welcome Message\n",
        "print(\"========================================================================================\")\n",
        "print(\"Welcome to AlUla Tourism Recommender  System\")\n",
        "print(\"We will help you find the best activities to enjoy in AlUla, Saudi Arabia!\")\n",
        "print(\"========================================================================================\")\n",
        "start = input(\"Are you ready to get started (y/n)? \")\n",
        "\n",
        "if start == 'y':\n",
        "    engine = AlUlaActivities() # Create an instance of the expert system\n",
        "    engine.reset()  # Reset the engine to clear any previous state\n",
        "\n",
        "    interests = {} # used dictionaries to add the interest\n",
        "    # Collect user preferences, The user's responses to the interest questions are stored in the interests dictionary.\n",
        "    interests['history'] = input(\"\\n> Are you interested in history (y/n)? \").lower()\n",
        "    interests['observation'] = input(\"\\n> Do you enjoy observation (y/n)? \").lower()\n",
        "    interests['physical_activity'] = input(\"\\n> Are you into physical activities (y/n)? \").lower()\n",
        "    interests['outdoor'] = input(\"\\n> Do you like outdoor activities (y/n)? \").lower()\n",
        "    interests['race'] = input(\"\\n> Are you interested in races (y/n)? \").lower()\n",
        "    interests['contemporary_art'] = input(\"\\n> Do you appreciate contemporary art (y/n)? \").lower()\n",
        "    interests['adventurous'] = input(\"\\n> Do you seek adventurous experiences (y/n)? \").lower()\n",
        "    interests['relaxation'] = input(\"\\n> Dyo you want to relax and unwind (y/n)? \").lower()\n",
        "    interests['physical'] = input(\"\\n> Are you interested in physical relaxation (y/n)? \").lower()\n",
        "    interests['musical_performance'] = input(\"\\n> Do you enjoy musical performances (y/n)? \").lower()\n",
        "    interests['filmmaking'] = input(\"\\n> Are you into filmmaking (y/n)? \").lower()\n",
        "    interests['shopping'] = input(\"\\n> Do you like shopping (y/n)? \").lower()\n",
        "    interests['traditional_cuisine'] = input(\"\\n> Do you want to try traditional cuisine (y/n)? \").lower()\n",
        "    interests['international_cuisine'] = input(\"\\n> Do you prefer international cuisine (y/n)? \").lower()\n",
        "    interests['high_budget'] = input(\"\\n> Do you have a high budget (y/n)? \").lower()\n",
        "    print(\"========================================================================================\")\n",
        "    print(\"\\nThe Recommended Activities based on your interests:\")\n",
        "    engine.declare(TouristInterests(**interests))\n",
        "    engine.run() # Run the expert system to make recommendations\n",
        "else:\n",
        "    print(\"Perhaps another time!\")\n",
        "\n",
        "# End System\n",
        "print(\"========================================================================================\")\n",
        "print(\"\\nThanks for using AlUla Tourism Recommender!\")\n",
        "\n"
      ],
      "metadata": {
        "id": "d7bBPzE7pQB1"
      },
      "execution_count": null,
      "outputs": []
    },
    {
      "cell_type": "markdown",
      "source": [
        "**Experta Methods**\n",
        "\n",
        "```\n",
        "#engine.reset():\n",
        "\n",
        "```\n",
        "The reset method is used to reset the state of the expert system, clearing any facts or rules that may have been stored or activated from a previous run.\n",
        "\n",
        "Ensure a clean slate for making recommendations based on the latest user interests.\n",
        "\n",
        "\n",
        "\n",
        "```\n",
        "# engine.declare()\n",
        "```\n",
        "Adds a new fact to the factlist (the list of facts known by the engine).\n",
        "add facts to the expert system's knowledge base\n",
        "\n",
        "\n",
        "\n",
        "```\n",
        "# engine.run()\n",
        "```\n",
        "used to start the inference process within the expert system\n",
        "\n",
        "Once the facts have been declared using declare, the system will use its rules to reason and make recommendations based on the provided facts.\n"
      ],
      "metadata": {
        "id": "_mJrBZHazscR"
      }
    }
  ]
}